{
 "cells": [
  {
   "cell_type": "markdown",
   "metadata": {},
   "source": [
    "# Fishing the Phish\n",
    "*Integrative Team Project - IS Team 16 AY22*"
   ]
  },
  {
   "cell_type": "markdown",
   "metadata": {},
   "source": [
    "# **1. Objective**\n",
    "Phishing attack is one of the most common cyber attacks. Today phishing attackers use\n",
    "software kits, called phishing kits, that provide ready-to-deploy packages. With the availability\n",
    "of such kits, attackers need not any more require sophisticated technical knowledge or skills.\n",
    "In this project, we plan to analyze hundreds of kits in a semi-automated or automated way, so\n",
    "as to understand the underlying characteristics of phishing, the commonality across different\n",
    "targets being phished, the evolution of the code base (and hence the attack), cloaking\n",
    "techniques in use, etc."
   ]
  },
  {
   "cell_type": "markdown",
   "metadata": {},
   "source": [
    "# **2. Methodology**\n",
    "The general idea of the project was to perform n-gram extraction of the source codes of phishing websites with [TF-IDF](https://en.wikipedia.org/wiki/Tf%E2%80%93idf) Vectorization, then with KMeans, cluster those phishing websites based on the n-grams extracted.\n",
    "\n",
    "By saving the pre-fitted KMeans Model used to perform clustering, we are able to then also predict the clusters of new phishing websites, without having to re-fit the KMeans model."
   ]
  },
  {
   "cell_type": "markdown",
   "metadata": {},
   "source": [
    "# **3. Collecting the Data**\n",
    "For this project, the team needed to obtain a significant amount of phishing kits and their source codes.\n",
    "\n",
    "The team obtained all of the 600+ phishing kits used for this project from [phishunt.io](phishunt.io)'s repository of phishing kits, which is available on [GitHub](https://github.com/0xDanielLopez/phishing_kits)\n",
    "\n",
    "The CSV and pickles used in this notebook can be obtained from the project's [Google Drive](https://drive.google.com/drive/folders/1ItSFvYVwbW8JXj4sb6OJ3o8n1AVpA6VS?usp=sharing)\n",
    "\n",
    "Ensure that the files are placed in file paths as shown below.\n",
    "To download:\n",
    "\n",
    "**CSV**\n",
    "1. csvs/combined_data.csv\n",
    "\n",
    "**!!! NOTE: The following are only required if skipping to Step 6 !!!**\n",
    "\n",
    "**CSV**\n",
    "1. csvs/combined_data.csv\n",
    "2. csvs/clustered.csv \n",
    "\n",
    "**Pickles**\n",
    "1. pickles/tfidf_vocab.pkl\n",
    "2. pickles/kmeans_prefitted.pkl"
   ]
  },
  {
   "cell_type": "markdown",
   "metadata": {},
   "source": [
    "# **3.1. Pre-requisites**\n",
    "Ensure the above. \n",
    "\n",
    "Installing the required python libraries."
   ]
  },
  {
   "cell_type": "code",
   "execution_count": null,
   "metadata": {},
   "outputs": [],
   "source": [
    "!pip install -r https://raw.githubusercontent.com/JustAyce/ITPTEAM16/main/requirements.txt"
   ]
  },
  {
   "cell_type": "markdown",
   "metadata": {},
   "source": [
    "# **4. Creating the corpus**\n",
    "The creation of the corpus was performed programmatically. In this process, the contents of each website's html, php files are concatenated to form its individual corpus, which are then stored into a chronologically sorted csv.\n",
    "\n",
    "**Please don't run this, unless you plan to generate a new csv with different phishing kits.**"
   ]
  },
  {
   "cell_type": "code",
   "execution_count": null,
   "metadata": {},
   "outputs": [],
   "source": [
    "# Importing the required libraries\n",
    "import pandas as pd\n",
    "import os.path\n",
    "import os\n",
    "import csv\n",
    "import re\n",
    "from pathlib import Path"
   ]
  },
  {
   "cell_type": "code",
   "execution_count": null,
   "metadata": {},
   "outputs": [],
   "source": [
    "\"\"\"\n",
    "User-provided Variables\n",
    "\n",
    "    1. start_dir\n",
    "        This is the absolute path where the phishing kits are stored.\n",
    "        NOTE: Ensure that phishing kits have been unzipped!\n",
    "\n",
    "    2. export_fp\n",
    "        This is the file path where you want the output csv to be stored at.\n",
    "        NOTE: (including file name!)\n",
    "\n",
    "    3. header\n",
    "        This defines the columns of the output csv.\n",
    "\n",
    "    4. exclude\n",
    "        This variable determines the list of directories to ignore.\n",
    "\n",
    "    5. file_exts_to_concat\n",
    "        This variable determines what files should be stored into the corpus.\n",
    "    \n",
    "    6. removal_list\n",
    "        This variable determines the list of strings to be removed. \n",
    "    \n",
    "    7. month_abbr\n",
    "        A dictionary mapping for month abbreviations to its numerical form.\n",
    "        NOTE: You do not need to touch this.\n",
    "\"\"\"\n",
    "\n",
    "# Change PWD of Script\n",
    "start_dir = \"/home/user/Desktop/Phishing_Kits\"\n",
    "os.chdir(start_dir)\n",
    "\n",
    "# Define CSV Filename\n",
    "export_fp = 'combined_data.csv'\n",
    "\n",
    "# Define Columns of CSV\n",
    "header = ['date', 'month', 'website', 'website_dirname', 'website_fp', 'content']\n",
    "\n",
    "# List of directories to ignore\n",
    "exclude = set(['__MACOSX'])\n",
    "\n",
    "# File Extensions to Concat\n",
    "file_exts_to_concat = ('.html', '.php')\n",
    "\n",
    "# Strings to remove\n",
    "removal_list = ['\\t', '\\n']\n",
    "\n",
    "# Monthly Abbreviations to convert month abbreviations to numerical form\n",
    "month_abbr = {\n",
    "    \"Jan\": 1, \"Feb\": 2, \"Mar\": 3, \"Apr\": 4,\n",
    "    \"May\": 5, \"Jun\": 6, \"Jul\": 7, \"Aug\": 8,\n",
    "    \"Sep\": 9, \"Oct\": 10, \"Nov\": 11, \"Dec\": 11\n",
    "    }"
   ]
  },
  {
   "cell_type": "code",
   "execution_count": null,
   "metadata": {},
   "outputs": [],
   "source": [
    "def create_source_code_corpus():\n",
    "    with open(export_fp, 'w', newline='') as f:\n",
    "        writer = csv.writer(f, delimiter=',', quoting=csv.QUOTE_ALL, quotechar='\"', escapechar='\\\\')\n",
    "        writer.writerow(header)\n",
    "\n",
    "        years = next(os.walk('.'))[1]\n",
    "        for year in years:\n",
    "            year_dir = os.path.join('.', year)\n",
    "            months = next(os.walk(year_dir))[1]\n",
    "            for month in months:\n",
    "                month_dir = os.path.join(year_dir, month)\n",
    "                websites = next(os.walk(month_dir))[1]\n",
    "                for index, website in enumerate(websites):\n",
    "                    # Remove (.?.zip)\n",
    "                    website_url = os.path.basename(website).split(\" \",1)[0]\n",
    "\n",
    "                    website_fp = os.path.join(month_dir, website)\n",
    "\n",
    "                    # Split \"Month\" (e.g. Jan_2022) into an actual date (e.g. 2022-01-01)  \n",
    "                    # so that the csv is easily sortable by date\n",
    "                    # format:\n",
    "                    # \"2022-01-01\"\n",
    "                    month_year = month.split(\"_\")\n",
    "                    converted_date = f\"{month_year[1]}-{month_abbr[month_year[0]]:02d}-01\"\n",
    "\n",
    "                    row = [converted_date, month, website_url, website, website_fp, '']\n",
    "\n",
    "                    for root, dirs, files in os.walk(website_fp, topdown=True):\n",
    "                        dirs[:] = [d for d in dirs if d not in exclude]\n",
    "                        for file in files:\n",
    "                            if file.endswith(file_exts_to_concat):\n",
    "                                txt = Path(os.path.join(root, file)).read_text(errors='ignore')\n",
    "                                for to_remove in removal_list:\n",
    "                                    txt = txt.replace(to_remove,'')\n",
    "                                txt = re.sub(\"<style.*>.*<\\/style>\",\"\", txt)\n",
    "                                row[5] += txt\n",
    "\n",
    "                    writer.writerow(row)\n",
    "\n",
    "        # Sort the csv by date\n",
    "        df = pd.read_csv(export_fp, index_col = False)\n",
    "        df['date'] = pd.to_datetime(df['date']).dt.strftime('%y-%m-%d')\n",
    "        df.sort_values(['date', 'website'], inplace=True)\n",
    "        df.to_csv(export_fp, index=False)"
   ]
  },
  {
   "cell_type": "code",
   "execution_count": null,
   "metadata": {},
   "outputs": [],
   "source": [
    "# Run the corpus creation function\n",
    "create_source_code_corpus()"
   ]
  },
  {
   "cell_type": "markdown",
   "metadata": {},
   "source": [
    "# **5. Clustering**\n",
    "The purpose of this stage is to obtain clustering labels for the phishing websites.\n",
    "\n",
    "\n",
    "In this stage, the process is as follows:\n",
    "1. Load the corpus\n",
    "   \n",
    "2. The corpus is transformed by [TfidfVectorizer](https://scikit-learn.org/stable/modules/generated/sklearn.feature_extraction.text.TfidfVectorizer.html) into a matrix of n-grams.\n",
    "\n",
    "3. With the transformed corpus, the ideal number of clusters (k=n) is obtained with the [Elbow method](https://en.wikipedia.org/wiki/Elbow_method_(clustering)), before clustering the phishing websites with [KMeans](https://scikit-learn.org/stable/modules/generated/sklearn.cluster.KMeans.html).\n",
    "\n",
    "4. After clustering with [KMeans](https://scikit-learn.org/stable/modules/generated/sklearn.cluster.KMeans.html), [PCA](https://scikit-learn.org/stable/modules/generated/sklearn.decomposition.PCA.html) and [t-SNE](https://scikit-learn.org/stable/modules/generated/sklearn.manifold.TSNE.html) graphs are plotted to obtain a visualized representation of the clusters.\n",
    "\n",
    "5. Cluster labels are stored into a csv.\n",
    "   \n",
    "6. [Pickle](https://docs.python.org/3/library/pickle.html) dump vocabulary of TfidfVectorizer, and fitted model of KMeans.\n",
    "\n",
    "**Optional.** Users can choose to copy the phishing kits into another directory, organized by clusters. \n",
    "\n",
    "An example: /clusters/1/website.com. \n",
    "\n",
    "The purpose is to faciliate and smoothen the process of manually analyzing the clusters."
   ]
  },
  {
   "cell_type": "code",
   "execution_count": 1,
   "metadata": {},
   "outputs": [],
   "source": [
    "# Importing the required libraries\n",
    "import os\n",
    "from sklearn.cluster import KMeans\n",
    "import csv\n",
    "\n",
    "import numpy as np\n",
    "import pandas as pd\n",
    "import matplotlib.pyplot as plt\n",
    "import matplotlib.cm as cm\n",
    "import sys\n",
    "\n",
    "from sklearn.feature_extraction.text import TfidfVectorizer\n",
    "from sklearn.decomposition import PCA\n",
    "from sklearn.manifold import TSNE\n",
    "\n",
    "import pickle"
   ]
  },
  {
   "cell_type": "code",
   "execution_count": null,
   "metadata": {},
   "outputs": [],
   "source": [
    "\"\"\"\n",
    "Optional cell block.\n",
    "To only be run when issues are encountered when displaying contents of a csv\n",
    "\"\"\"\n",
    "maxInt = sys.maxsize\n",
    "\n",
    "while True:\n",
    "    # decrease the maxInt value by factor 10 \n",
    "    # as long as the OverflowError occurs.\n",
    "\n",
    "    try:\n",
    "        csv.field_size_limit(maxInt)\n",
    "        break\n",
    "    except OverflowError:\n",
    "        maxInt = int(maxInt/10)\n",
    "        \n",
    "csv.field_size_limit(maxInt)"
   ]
  },
  {
   "cell_type": "markdown",
   "metadata": {},
   "source": [
    "## **5.1: Loading the Corpus**\n",
    "Here, the csv containing the corpus(es) is loaded."
   ]
  },
  {
   "cell_type": "code",
   "execution_count": 2,
   "metadata": {},
   "outputs": [],
   "source": [
    "csv_folder = r'csvs'\n",
    "corpus_csv_filename = r'combined_data.csv'\n",
    "\n",
    "df_corpus = pd.read_csv(os.path.join(csv_folder, corpus_csv_filename), sep=',', encoding=\"ISO-8859-1\")\n",
    "df_corpus = df_corpus.dropna(subset=['content'])\n",
    "\n",
    "data = df_corpus['content']\n",
    "data_split = np.array_split(data, 3)\n",
    "\n",
    "for i in range(0, len(data_split)):\n",
    "    data_split[i] = data_split[i].astype('U')\n",
    "\n",
    "del data\n",
    "data = np.concatenate((data_split[0], data_split[1], data_split[2]))"
   ]
  },
  {
   "cell_type": "markdown",
   "metadata": {},
   "source": [
    "## **5.2.1. TF-IDF Vectorization**\n",
    "Here, TF-IDF Vectorization is performed on the corpus(es), obtaining a matrix of n-grams."
   ]
  },
  {
   "cell_type": "code",
   "execution_count": 3,
   "metadata": {},
   "outputs": [],
   "source": [
    "# Initialize TfidfVectorizer\n",
    "tfidf_vect = TfidfVectorizer(\n",
    "    #token_pattern = '[a-zA-Z0-9]#$&+,:;=?@#|<>.^*()%!-]+',\n",
    "    ngram_range=(5,7),\n",
    "    max_df = 0.2,\n",
    "    max_features = 1000\n",
    "    )\n",
    "\n",
    "# Fit the model with training data\n",
    "tf_transformer = tfidf_vect.fit(data)\n",
    "\n",
    "# Transform to obtain sparse matrix\n",
    "tfidf_matrix = tfidf_vect.transform(data)"
   ]
  },
  {
   "cell_type": "markdown",
   "metadata": {},
   "source": [
    "## **5.2.2. Visualize TF-IDF N-grams**\n",
    "Here, the matrix is visualized into a more human-readable form."
   ]
  },
  {
   "cell_type": "code",
   "execution_count": 4,
   "metadata": {},
   "outputs": [
    {
     "data": {
      "text/html": [
       "<div>\n",
       "<style scoped>\n",
       "    .dataframe tbody tr th:only-of-type {\n",
       "        vertical-align: middle;\n",
       "    }\n",
       "\n",
       "    .dataframe tbody tr th {\n",
       "        vertical-align: top;\n",
       "    }\n",
       "\n",
       "    .dataframe thead th {\n",
       "        text-align: right;\n",
       "    }\n",
       "</style>\n",
       "<table border=\"1\" class=\"dataframe\">\n",
       "  <thead>\n",
       "    <tr style=\"text-align: right;\">\n",
       "      <th></th>\n",
       "      <th>0a 20 20 20 20</th>\n",
       "      <th>0a 20 20 20 20 20</th>\n",
       "      <th>0a 20 20 20 20 20 20</th>\n",
       "      <th>12 col sm 12 control</th>\n",
       "      <th>12 col sm 12 control label</th>\n",
       "      <th>12 col sm 12 control label label</th>\n",
       "      <th>12 control label label for</th>\n",
       "      <th>1404201901 amp ca1404201901 link rel</th>\n",
       "      <th>1404201901 amp ca1404201901 link rel prefetch</th>\n",
       "      <th>1404201901 amp ca1404201901 link rel prefetch href</th>\n",
       "      <th>...</th>\n",
       "      <th>www apple com la hreflang</th>\n",
       "      <th>www apple com la hreflang es</th>\n",
       "      <th>www apple com lae hreflang</th>\n",
       "      <th>www apple com lae hreflang en</th>\n",
       "      <th>www apple com us search</th>\n",
       "      <th>www apple com us shop</th>\n",
       "      <th>www apple com us shop goto</th>\n",
       "      <th>x20 x20 x20 x20 x20</th>\n",
       "      <th>x20 x20 x20 x20 x20 x20</th>\n",
       "      <th>x20 x20 x20 x20 x20 x20 x20</th>\n",
       "    </tr>\n",
       "  </thead>\n",
       "  <tbody>\n",
       "    <tr>\n",
       "      <th>0</th>\n",
       "      <td>0.0</td>\n",
       "      <td>0.0</td>\n",
       "      <td>0.0</td>\n",
       "      <td>0.0</td>\n",
       "      <td>0.0</td>\n",
       "      <td>0.0</td>\n",
       "      <td>0.0</td>\n",
       "      <td>0.0</td>\n",
       "      <td>0.0</td>\n",
       "      <td>0.0</td>\n",
       "      <td>...</td>\n",
       "      <td>0.0</td>\n",
       "      <td>0.0</td>\n",
       "      <td>0.0</td>\n",
       "      <td>0.0</td>\n",
       "      <td>0.0</td>\n",
       "      <td>0.0</td>\n",
       "      <td>0.0</td>\n",
       "      <td>0.0</td>\n",
       "      <td>0.0</td>\n",
       "      <td>0.0</td>\n",
       "    </tr>\n",
       "    <tr>\n",
       "      <th>1</th>\n",
       "      <td>0.0</td>\n",
       "      <td>0.0</td>\n",
       "      <td>0.0</td>\n",
       "      <td>0.0</td>\n",
       "      <td>0.0</td>\n",
       "      <td>0.0</td>\n",
       "      <td>0.0</td>\n",
       "      <td>0.0</td>\n",
       "      <td>0.0</td>\n",
       "      <td>0.0</td>\n",
       "      <td>...</td>\n",
       "      <td>0.0</td>\n",
       "      <td>0.0</td>\n",
       "      <td>0.0</td>\n",
       "      <td>0.0</td>\n",
       "      <td>0.0</td>\n",
       "      <td>0.0</td>\n",
       "      <td>0.0</td>\n",
       "      <td>0.0</td>\n",
       "      <td>0.0</td>\n",
       "      <td>0.0</td>\n",
       "    </tr>\n",
       "    <tr>\n",
       "      <th>2</th>\n",
       "      <td>0.0</td>\n",
       "      <td>0.0</td>\n",
       "      <td>0.0</td>\n",
       "      <td>0.0</td>\n",
       "      <td>0.0</td>\n",
       "      <td>0.0</td>\n",
       "      <td>0.0</td>\n",
       "      <td>0.0</td>\n",
       "      <td>0.0</td>\n",
       "      <td>0.0</td>\n",
       "      <td>...</td>\n",
       "      <td>0.0</td>\n",
       "      <td>0.0</td>\n",
       "      <td>0.0</td>\n",
       "      <td>0.0</td>\n",
       "      <td>0.0</td>\n",
       "      <td>0.0</td>\n",
       "      <td>0.0</td>\n",
       "      <td>0.0</td>\n",
       "      <td>0.0</td>\n",
       "      <td>0.0</td>\n",
       "    </tr>\n",
       "    <tr>\n",
       "      <th>3</th>\n",
       "      <td>0.0</td>\n",
       "      <td>0.0</td>\n",
       "      <td>0.0</td>\n",
       "      <td>0.0</td>\n",
       "      <td>0.0</td>\n",
       "      <td>0.0</td>\n",
       "      <td>0.0</td>\n",
       "      <td>0.0</td>\n",
       "      <td>0.0</td>\n",
       "      <td>0.0</td>\n",
       "      <td>...</td>\n",
       "      <td>0.0</td>\n",
       "      <td>0.0</td>\n",
       "      <td>0.0</td>\n",
       "      <td>0.0</td>\n",
       "      <td>0.0</td>\n",
       "      <td>0.0</td>\n",
       "      <td>0.0</td>\n",
       "      <td>0.0</td>\n",
       "      <td>0.0</td>\n",
       "      <td>0.0</td>\n",
       "    </tr>\n",
       "    <tr>\n",
       "      <th>4</th>\n",
       "      <td>0.0</td>\n",
       "      <td>0.0</td>\n",
       "      <td>0.0</td>\n",
       "      <td>0.0</td>\n",
       "      <td>0.0</td>\n",
       "      <td>0.0</td>\n",
       "      <td>0.0</td>\n",
       "      <td>0.0</td>\n",
       "      <td>0.0</td>\n",
       "      <td>0.0</td>\n",
       "      <td>...</td>\n",
       "      <td>0.0</td>\n",
       "      <td>0.0</td>\n",
       "      <td>0.0</td>\n",
       "      <td>0.0</td>\n",
       "      <td>0.0</td>\n",
       "      <td>0.0</td>\n",
       "      <td>0.0</td>\n",
       "      <td>0.0</td>\n",
       "      <td>0.0</td>\n",
       "      <td>0.0</td>\n",
       "    </tr>\n",
       "  </tbody>\n",
       "</table>\n",
       "<p>5 rows × 1000 columns</p>\n",
       "</div>"
      ],
      "text/plain": [
       "   0a 20 20 20 20  0a 20 20 20 20 20  0a 20 20 20 20 20 20  \\\n",
       "0             0.0                0.0                   0.0   \n",
       "1             0.0                0.0                   0.0   \n",
       "2             0.0                0.0                   0.0   \n",
       "3             0.0                0.0                   0.0   \n",
       "4             0.0                0.0                   0.0   \n",
       "\n",
       "   12 col sm 12 control  12 col sm 12 control label  \\\n",
       "0                   0.0                         0.0   \n",
       "1                   0.0                         0.0   \n",
       "2                   0.0                         0.0   \n",
       "3                   0.0                         0.0   \n",
       "4                   0.0                         0.0   \n",
       "\n",
       "   12 col sm 12 control label label  12 control label label for  \\\n",
       "0                               0.0                         0.0   \n",
       "1                               0.0                         0.0   \n",
       "2                               0.0                         0.0   \n",
       "3                               0.0                         0.0   \n",
       "4                               0.0                         0.0   \n",
       "\n",
       "   1404201901 amp ca1404201901 link rel  \\\n",
       "0                                   0.0   \n",
       "1                                   0.0   \n",
       "2                                   0.0   \n",
       "3                                   0.0   \n",
       "4                                   0.0   \n",
       "\n",
       "   1404201901 amp ca1404201901 link rel prefetch  \\\n",
       "0                                            0.0   \n",
       "1                                            0.0   \n",
       "2                                            0.0   \n",
       "3                                            0.0   \n",
       "4                                            0.0   \n",
       "\n",
       "   1404201901 amp ca1404201901 link rel prefetch href  ...  \\\n",
       "0                                                0.0   ...   \n",
       "1                                                0.0   ...   \n",
       "2                                                0.0   ...   \n",
       "3                                                0.0   ...   \n",
       "4                                                0.0   ...   \n",
       "\n",
       "   www apple com la hreflang  www apple com la hreflang es  \\\n",
       "0                        0.0                           0.0   \n",
       "1                        0.0                           0.0   \n",
       "2                        0.0                           0.0   \n",
       "3                        0.0                           0.0   \n",
       "4                        0.0                           0.0   \n",
       "\n",
       "   www apple com lae hreflang  www apple com lae hreflang en  \\\n",
       "0                         0.0                            0.0   \n",
       "1                         0.0                            0.0   \n",
       "2                         0.0                            0.0   \n",
       "3                         0.0                            0.0   \n",
       "4                         0.0                            0.0   \n",
       "\n",
       "   www apple com us search  www apple com us shop  www apple com us shop goto  \\\n",
       "0                      0.0                    0.0                         0.0   \n",
       "1                      0.0                    0.0                         0.0   \n",
       "2                      0.0                    0.0                         0.0   \n",
       "3                      0.0                    0.0                         0.0   \n",
       "4                      0.0                    0.0                         0.0   \n",
       "\n",
       "   x20 x20 x20 x20 x20  x20 x20 x20 x20 x20 x20  x20 x20 x20 x20 x20 x20 x20  \n",
       "0                  0.0                      0.0                          0.0  \n",
       "1                  0.0                      0.0                          0.0  \n",
       "2                  0.0                      0.0                          0.0  \n",
       "3                  0.0                      0.0                          0.0  \n",
       "4                  0.0                      0.0                          0.0  \n",
       "\n",
       "[5 rows x 1000 columns]"
      ]
     },
     "execution_count": 4,
     "metadata": {},
     "output_type": "execute_result"
    }
   ],
   "source": [
    "tfidf_array = tfidf_matrix.toarray()\n",
    "df = pd.DataFrame(data=tfidf_array,columns = tfidf_vect.get_feature_names_out())\n",
    "\n",
    "df.head()"
   ]
  },
  {
   "cell_type": "markdown",
   "metadata": {},
   "source": [
    "## **5.3.1. Obtain ideal number of clusters (n=k) with Elbow Method**\n",
    "With the [Elbow Method](https://en.wikipedia.org/wiki/Elbow_method_(clustering)), we obtain the ideal number of clusters, k, to be used as input when clustering with KMeans."
   ]
  },
  {
   "cell_type": "code",
   "execution_count": 5,
   "metadata": {},
   "outputs": [],
   "source": [
    "# Optional: Suppress Future Warnings\n",
    "import warnings\n",
    "warnings.simplefilter(action='ignore', category=FutureWarning)  \n",
    "warnings.simplefilter(action='ignore', category=UserWarning)\n"
   ]
  },
  {
   "cell_type": "code",
   "execution_count": 12,
   "metadata": {},
   "outputs": [
    {
     "data": {
      "image/png": "[encoded data removed]",
      "text/plain": [
       "<Figure size 432x288 with 1 Axes>"
      ]
     },
     "metadata": {
      "needs_background": "light"
     },
     "output_type": "display_data"
    }
   ],
   "source": [
    "from sklearn.preprocessing import MinMaxScaler\n",
    "def find_optimal_clusters(data, max_k):\n",
    "    mms = MinMaxScaler()\n",
    "    mms.fit(data)\n",
    "    data_transformed = mms.transform(data)\n",
    "    sum_of_squared_distances = []\n",
    "    K = range(1, max_k)\n",
    "    for k in K:\n",
    "        km = KMeans(n_clusters=k)\n",
    "        km = km.fit(data_transformed)\n",
    "        sum_of_squared_distances.append(km.inertia_)\n",
    "    \n",
    "    plt.plot(K, sum_of_squared_distances, 'bx-')\n",
    "    plt.xlabel('k')\n",
    "    plt.ylabel('sum of squared distances')\n",
    "    plt.title('elbow method for optimal k')    \n",
    "    plt.show()\n",
    "\n",
    "find_optimal_clusters(tfidf_matrix.todense(), 30)"
   ]
  },
  {
   "cell_type": "markdown",
   "metadata": {},
   "source": [
    "## **5.3.2. Perform clustering with KMeans with n=k obtained from the elbow method**\n",
    "**NOTE: Please replace number_of_clusters with the k value obtained from the elbow method**"
   ]
  },
  {
   "cell_type": "code",
   "execution_count": 13,
   "metadata": {},
   "outputs": [],
   "source": [
    "# NOTE: Replace this variable with the k value obtained from the elbow method.\n",
    "number_of_clusters = 14\n",
    "\n",
    "_kmeans = KMeans(n_clusters=number_of_clusters)\n",
    "labels = _kmeans.fit_predict(tfidf_matrix)"
   ]
  },
  {
   "cell_type": "markdown",
   "metadata": {},
   "source": [
    "## **5.4. Plot PCA & t-SNE Graph**\n",
    "Here, we plot out [PCA](https://scikit-learn.org/stable/modules/generated/sklearn.decomposition.PCA.html) and [t-SNE](https://scikit-learn.org/stable/modules/generated/sklearn.manifold.TSNE.html) graphs for a visualized representation of the clusters."
   ]
  },
  {
   "cell_type": "code",
   "execution_count": 14,
   "metadata": {},
   "outputs": [
    {
     "data": {
      "image/png": "[encoded data removed]",
      "text/plain": [
       "<Figure size 1008x432 with 2 Axes>"
      ]
     },
     "metadata": {
      "needs_background": "light"
     },
     "output_type": "display_data"
    }
   ],
   "source": [
    "def plot_tsne_pca(data, labels):\n",
    "    max_label = max(labels)\n",
    "    max_items = np.random.choice(range(data.shape[0]), size=len(labels), replace=False)\n",
    "    \n",
    "    pca = PCA(n_components=2).fit_transform(data[max_items,:].todense())\n",
    "    tsne = TSNE(init='pca', learning_rate='auto').fit_transform(\n",
    "        PCA(n_components=50).fit_transform(data[max_items,:].todense())\n",
    "        )\n",
    "    \n",
    "    idx = np.random.choice(range(pca.shape[0]), size=len(labels), replace=False)\n",
    "    label_subset = labels[max_items]\n",
    "    label_subset = [cm.hsv(i/max_label) for i in label_subset[idx]]\n",
    "    \n",
    "    f, ax = plt.subplots(1, 2, figsize=(14, 6))\n",
    "\n",
    "    pca_s = ax[0].scatter(pca[idx, 0], pca[idx, 1], c=label_subset)\n",
    "    ax[0].legend(*pca_s.legend_elements(),title='clusters')\n",
    "    ax[0].set_title('PCA Cluster Plot')\n",
    "    \n",
    "    tsne_s = ax[1].scatter(tsne[idx, 0], tsne[idx, 1], c=label_subset)\n",
    "    ax[1].legend(*tsne_s.legend_elements(),title='clusters')\n",
    "    ax[1].set_title('TSNE Cluster Plot')\n",
    "    \n",
    "plot_tsne_pca(tfidf_matrix, labels)"
   ]
  },
  {
   "cell_type": "markdown",
   "metadata": {},
   "source": [
    "## **5.5. Store cluster labels into csv**\n",
    "The cluster labels are stored into a csv, which can be used for future prediction accuracy analysis."
   ]
  },
  {
   "cell_type": "code",
   "execution_count": 17,
   "metadata": {},
   "outputs": [],
   "source": [
    "csv_folder = r'csvs'\n",
    "output_cluster_csv_fp = r'clustered.csv'\n",
    "\n",
    "df_corpus['clusters'] = labels\n",
    "df_corpus.to_csv(os.path.join(csv_folder, output_cluster_csv_fp), index=False)"
   ]
  },
  {
   "cell_type": "markdown",
   "metadata": {},
   "source": [
    "## **5.6. Pickle Dump TF-IDF Vocabulary and Fitted KMeans Model**\n",
    "Here, we pickle dump the TF-IDF Vocabulary and Fitted KMeans Model. \n",
    "\n",
    "With these dumped pickles, we are able to perform prediction on new corpus(es) without having to refit the KMeans Model. "
   ]
  },
  {
   "cell_type": "code",
   "execution_count": 18,
   "metadata": {},
   "outputs": [],
   "source": [
    "# NOTE: Replace these variables with desired file name.\n",
    "pickle_directory = 'pickles'\n",
    "tfidf_vocab_pickle_filename = r'tfidf_vocab.pkl' \n",
    "kmeans_prefitted_filename = r'kmeans_prefitted.pkl'\n",
    "\n",
    "# Dump TF-IDF Vocab\n",
    "pickle.dump(tf_transformer, open(os.path.join(pickle_directory, tfidf_vocab_pickle_filename), \"wb\"))\n",
    "\n",
    "# Dump Prefitted KMeans model\n",
    "pickle.dump(_kmeans, open(os.path.join(pickle_directory, kmeans_prefitted_filename), \"wb\"))"
   ]
  },
  {
   "cell_type": "markdown",
   "metadata": {},
   "source": [
    "## **OPTIONAL: Copy Phishing Kits into another directory, organized by clusters**\n",
    "This is an optional step whereby phishing kits are copied into another directory, organized by clusters.\n",
    "\n",
    " An example: /clusters/1/website.com. The purpose is to faciliate and smoothen the process of manually analyzing the clusters."
   ]
  },
  {
   "cell_type": "code",
   "execution_count": null,
   "metadata": {},
   "outputs": [],
   "source": [
    "import shutil\n",
    "\n",
    "months = df_corpus['month']\n",
    "websites_dirnames = df_corpus['website_dirname']\n",
    "website_fp = df_corpus['website_fp']\n",
    "if os.path.exists('clusters'):\n",
    "    shutil.rmtree('clusters')\n",
    "\n",
    "for i in range(len(labels)):\n",
    "    cp_from_dir = website_fp[i]\n",
    "\n",
    "    # e.g. clusters/1/Jan_2022_misaelrosetti.net\n",
    "    cp_to_dir = os.path.join('clusters', str(labels[i]+1), f\"{months[i]}_{websites_dirnames[i]}\")\n",
    "    \n",
    "    shutil.copytree(cp_from_dir, cp_to_dir)"
   ]
  },
  {
   "cell_type": "markdown",
   "metadata": {},
   "source": [
    "# **6. Cluster Prediction with a Pre-fitted KMeans Model**\n",
    "The purpose of this stage is to predict the cluster of a new corpus (i.e., new phishing website), without re-fitting the KMeans model.\n",
    "\n",
    "Here, we load the TF-IDF Vocabulary and the Pre-fitted KMeans Model obtained from the previous steps, to transform a new corpus and predict its cluster.\n",
    "\n",
    "In this stage, the process is as follows:\n",
    "1. Load the corpus\n",
    "\n",
    "2. Load TF-IDF Vocabulary, Pre-fitted KMeans Model pickles\n",
    "   \n",
    "3. Transform the new corpus with the loaded TF-IDF Vocabulary into a matrix of n-grams\n",
    "\n",
    "4. Predict the clusters of the corpus with the Pre-fitted KMeans Model"
   ]
  },
  {
   "cell_type": "markdown",
   "metadata": {},
   "source": [
    "## **6.1. Load the corpus**\n",
    "Here, the csv containing the corpus(es) is loaded."
   ]
  },
  {
   "cell_type": "code",
   "execution_count": 19,
   "metadata": {},
   "outputs": [],
   "source": [
    "# Importing the dataset\n",
    "csv_folder = r'csvs'\n",
    "clustered_csv_fp = r'clustered.csv'\n",
    "\n",
    "dataset = pd.read_csv(os.path.join(csv_folder, clustered_csv_fp))\n",
    "df = dataset['content']"
   ]
  },
  {
   "cell_type": "markdown",
   "metadata": {},
   "source": [
    "## **6.2. Load TF-IDF Vocabulary, Pre-fitted KMeans Model pickles**"
   ]
  },
  {
   "cell_type": "code",
   "execution_count": 20,
   "metadata": {},
   "outputs": [],
   "source": [
    "pickle_directory = 'pickles'\n",
    "tfidf_vocab_pickle_filepath = r'tfidf_vocab.pkl' \n",
    "kmeans_prefitted_pickle_filepath = r'kmeans_prefitted.pkl'\n",
    "\n",
    "# Load TF-IDF Vocabulary\n",
    "tf_vocab_pkl = pickle.load(open(os.path.join(pickle_directory, tfidf_vocab_pickle_filepath), 'rb'))\n",
    "\n",
    "# Load Prefitted KMeans model\n",
    "kmeans_prefit_pkl = pickle.load(open(os.path.join(pickle_directory, kmeans_prefitted_pickle_filepath), \"rb\"))"
   ]
  },
  {
   "cell_type": "markdown",
   "metadata": {},
   "source": [
    "## **6.3. TF-IDF Vectorization**\n",
    "Here, TF-IDF Vectorization is performed on the corpus(es), obtaining a matrix of n-grams."
   ]
  },
  {
   "cell_type": "code",
   "execution_count": 21,
   "metadata": {},
   "outputs": [],
   "source": [
    "tf_vect = TfidfVectorizer(\n",
    "    #token_pattern = '[a-zA-Z0-9]#$&+,:;=?@#|<>.^*()%!-]+',\n",
    "    ngram_range=(5,7),\n",
    "    max_df = 0.2,\n",
    "    max_features = 1000,\n",
    "    vocabulary = tf_vocab_pkl.vocabulary_\n",
    "    )\n",
    "\n",
    "pred_matrix = tf_vect.fit_transform(df)"
   ]
  },
  {
   "cell_type": "markdown",
   "metadata": {},
   "source": [
    "## **6.4. Predict cluster labels of corpus**\n",
    "Here, with the pre-fitted KMeans model, prediction is performed on the corpus(es), obtaining cluster labels (pred_labels)."
   ]
  },
  {
   "cell_type": "code",
   "execution_count": 22,
   "metadata": {},
   "outputs": [
    {
     "data": {
      "text/plain": [
       "array([ 2,  2,  3,  2, 11,  2,  0,  2,  2,  5,  2,  0,  2,  1,  0,  2,  2,\n",
       "        6,  2,  2,  6,  2,  8,  2,  2,  4,  8,  6,  2,  2,  2,  0,  2,  2,\n",
       "        2,  2,  2,  2,  2, 11,  2, 13,  8,  2,  2,  0, 11,  2,  2, 11,  5,\n",
       "        0,  2,  6,  6,  0,  2,  2,  2, 11,  2,  1, 12,  2,  3,  2,  6,  2,\n",
       "        0,  2,  2,  2,  2,  0,  2, 11,  2,  2, 11,  5,  2,  2,  2,  4, 12,\n",
       "        2, 13,  5,  2,  2, 11,  3,  5,  2, 11,  3,  2,  2,  6,  2,  2,  2,\n",
       "        2, 10, 11,  2, 12,  0, 10,  2,  2,  2,  2,  2,  3,  2,  2,  4,  7,\n",
       "        7,  2,  2,  4,  5,  2,  0,  2,  2, 11,  2,  2,  2,  2, 10,  2,  2,\n",
       "       11,  2,  8,  2,  6,  1,  4,  2,  2,  2,  2,  3,  2,  2,  2,  5,  2,\n",
       "        6,  2,  6,  2,  2,  0,  8,  8,  2,  1, 13,  2,  2,  8,  7,  0,  2,\n",
       "        2,  2, 12,  3,  2,  1, 13,  2,  4,  4,  8, 12,  1,  2,  9,  9,  1,\n",
       "        8,  2,  2,  2, 13,  2,  2,  2,  5,  2,  2,  2,  9,  9,  2,  9, 12,\n",
       "        9, 10,  2,  2,  2,  0,  2,  2,  0,  2, 13,  2,  2,  2, 11,  2, 13,\n",
       "        4,  2,  2, 13,  8, 10,  8,  2,  2,  5,  1, 10, 13,  2,  9,  2,  2,\n",
       "        0,  2,  1,  4,  8, 13,  2,  9,  2,  9,  2,  3,  2,  8, 12,  2,  2,\n",
       "       12,  8, 12, 12, 12, 12, 10,  2,  1, 12, 11,  2,  0, 10,  7,  7,  2,\n",
       "        2,  2, 10,  0,  1,  2,  2, 13,  0,  2,  0,  1,  2,  0,  5,  5,  5,\n",
       "        5,  5,  5,  5,  5,  5,  5,  2,  1,  9,  9,  2,  2,  2, 12,  4,  2,\n",
       "       12, 12, 12,  4, 13,  2,  2,  2,  2,  2, 11,  7,  9,  5,  2,  2,  2,\n",
       "        2, 12,  3,  1, 13,  2,  4,  2, 13,  2,  5,  5,  5, 12,  2, 12,  2,\n",
       "        0,  8,  0,  2,  2, 11,  2,  2,  4,  8,  2,  2,  0,  1,  2,  2,  2,\n",
       "        2,  2,  0,  2,  4,  6,  5,  2,  2,  0,  2,  2,  2,  2,  3,  2,  2,\n",
       "        2,  2,  3,  2,  2, 12, 12,  2,  2,  3,  2,  2,  7,  7,  7,  2,  8,\n",
       "        3,  2,  2,  8,  1,  1,  2,  5,  1, 13,  6,  2,  8,  8,  3,  0,  8,\n",
       "        9,  3,  2, 10,  1, 13,  1,  2,  2,  2, 13,  2, 10,  7,  9,  2,  2,\n",
       "        0, 13, 13,  8,  1,  2, 13,  0,  3,  2,  3, 10,  0,  4,  2,  9,  8,\n",
       "        3,  2,  8,  0, 10, 10, 10, 10,  2,  0,  3,  0,  2,  0,  2,  8,  1,\n",
       "        2,  3,  4,  1,  1,  3,  5,  1,  3,  1,  6,  6,  0,  2, 12,  0,  1,\n",
       "        2,  2,  6,  2,  1,  8,  3,  2,  4,  8,  2,  0,  2,  4,  0,  1,  2,\n",
       "        8,  3,  2,  0,  2,  3, 11, 10,  0,  4,  6,  2,  2,  2,  4,  2,  4,\n",
       "        2,  7,  2,  2, 13,  3,  2,  2, 11,  3,  3,  3,  3,  3, 11, 11,  3,\n",
       "        3, 11,  6, 11,  3,  7,  3,  4,  2,  2,  2, 11,  2,  1,  2,  7,  0,\n",
       "        4,  4,  1,  3,  6,  1,  2,  2,  2,  2,  2, 12,  0,  2,  3,  3,  5,\n",
       "        8,  4,  3,  3,  0,  2,  2,  1,  3,  2,  2, 10,  2,  4,  6, 13,  6,\n",
       "        2,  3, 13,  2,  2,  2,  3,  2, 13,  3,  3,  2,  2,  5, 10,  3, 12,\n",
       "        3,  2,  4,  2,  2,  3, 13, 13, 13,  2,  5,  2, 13,  3,  2, 10,  2,\n",
       "       11,  5,  2,  2, 11,  2,  2,  2,  7,  2,  6,  2,  3,  5,  8,  3,  4,\n",
       "       13, 12,  2])"
      ]
     },
     "execution_count": 22,
     "metadata": {},
     "output_type": "execute_result"
    }
   ],
   "source": [
    "pred_labels = kmeans_prefit_pkl.predict(pred_matrix)\n",
    "\n",
    "pred_labels"
   ]
  },
  {
   "cell_type": "markdown",
   "metadata": {},
   "source": [
    "# **7: Conclusion**\n",
    "\n",
    "With this, the objective of this project is achieved. We are able to cluster and predict phishing kits with a reasonable degree of accuracy and timespan."
   ]
  },
  {
   "cell_type": "markdown",
   "metadata": {},
   "source": [
    "# **8: References**\n",
    "* https://phishunt.io/\n",
    "* https://github.com/0xDanielLopez/phishing_kits\n",
    "* https://scikit-learn.org/stable/modules/generated/sklearn.feature_extraction.text.TfidfVectorizer.html\n",
    "* https://scikit-learn.org/stable/modules/generated/sklearn.cluster.KMeans.html\n"
   ]
  },
  {
   "cell_type": "markdown",
   "metadata": {},
   "source": [
    "# **Defunct: Obtain Top Keywords of Each Cluster**"
   ]
  },
  {
   "cell_type": "code",
   "execution_count": null,
   "metadata": {},
   "outputs": [],
   "source": [
    "import gc; gc.collect()\n",
    "\n",
    "def get_top_keywords(data, clusters, labels, n_terms):\n",
    "    df = pd.DataFrame(data.todense()).groupby(clusters).mean()\n",
    "    \n",
    "    for i,r in df.iterrows():\n",
    "        print('\\nCluster {}'.format(i))\n",
    "        print('<TERM>', end='')\n",
    "        print('\\n<TERM>'.join([labels[t] for t in np.argsort(r)[-n_terms:]]))\n",
    "            \n",
    "get_top_keywords(tfidf_matrix, labels, tfidf_vect.get_feature_names(), 10)"
   ]
  }
 ],
 "metadata": {
  "kernelspec": {
   "display_name": "Python 3.9.13 64-bit (windows store)",
   "language": "python",
   "name": "python3"
  },
  "language_info": {
   "codemirror_mode": {
    "name": "ipython",
    "version": 3
   },
   "file_extension": ".py",
   "mimetype": "text/x-python",
   "name": "python",
   "nbconvert_exporter": "python",
   "pygments_lexer": "ipython3",
   "version": "3.9.13"
  },
  "vscode": {
   "interpreter": {
    "hash": "4088da580720af73f5fa8ece0e213b812db60fd077cdd87b48aaf65f71f49d47"
   }
  }
 },
 "nbformat": 4,
 "nbformat_minor": 2
}
